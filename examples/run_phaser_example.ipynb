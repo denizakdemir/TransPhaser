{
 "cells": [
  {
   "cell_type": "markdown",
   "id": "27403e43",
   "metadata": {},
   "source": [
    "# 1. Import Required Libraries"
   ]
  },
  {
   "cell_type": "code",
   "execution_count": 1,
   "id": "a40ae68f",
   "metadata": {},
   "outputs": [],
   "source": [
    "import torch\n",
    "import os\n",
    "import logging\n",
    "from transphaser.config import HLAPhasingConfig\n",
    "from transphaser.runner import HLAPhasingRunner"
   ]
  },
  {
   "cell_type": "markdown",
   "id": "d512cffc",
   "metadata": {},
   "source": [
    "# 2. Configure and Run the Phaser"
   ]
  },
  {
   "cell_type": "code",
   "execution_count": 2,
   "id": "bf767ad7",
   "metadata": {},
   "outputs": [],
   "source": [
    "DATA_DIR = \"examples/data\"\n",
    "UNPHASED_DATA_FILE = os.path.join(DATA_DIR, \"synthetic_genotypes_unphased.csv\")\n",
    "PHASED_DATA_FILE = os.path.join(DATA_DIR, \"synthetic_haplotypes_phased.csv\")\n",
    "OUTPUT_DIR = \"examples/output\"\n",
    "SEED = 42\n",
    "DEVICE = \"cuda\" if torch.cuda.is_available() else \"cpu\"\n",
    "\n",
    "logging.basicConfig(level=logging.INFO, format='%(asctime)s - %(levelname)s - %(message)s')\n",
    "\n",
    "if __name__ == \"__main__\":\n",
    "    logging.info(\"Starting TransPhaser Example Workflow...\")\n",
    "\n",
    "    config = HLAPhasingConfig(\n",
    "        model_name=\"TransPhaser-Example\",\n",
    "        seed=SEED,\n",
    "        device=DEVICE,\n",
    "        output_dir=OUTPUT_DIR,\n",
    "        data={\n",
    "            \"unphased_data_path\": UNPHASED_DATA_FILE,\n",
    "            \"phased_data_path\": PHASED_DATA_FILE,\n",
    "            \"locus_columns\": [\"HLA-A\", \"HLA-B\", \"HLA-DRB1\"],\n",
    "            \"covariate_columns\": [\"Population\", \"AgeGroup\"],\n",
    "            \"categorical_covariate_columns\": [\"Population\", \"AgeGroup\"],\n",
    "        },\n",
    "        model={\n",
    "            \"embedding_dim\": 64,\n",
    "            \"latent_dim\": 32,\n",
    "            \"encoder\": {\"num_layers\": 2, \"num_heads\": 4, \"dropout\": 0.1},\n",
    "            \"decoder\": {\"num_layers\": 2, \"num_heads\": 4, \"dropout\": 0.1},\n",
    "        },\n",
    "        training={\n",
    "            \"batch_size\": 32,\n",
    "            \"learning_rate\": 1e-4,\n",
    "            \"epochs\": 5,\n",
    "            \"kl_annealing_type\": \"linear\",\n",
    "            \"kl_annealing_epochs\": 1,\n",
    "        },\n",
    "        reporting={\n",
    "            \"formats\": [\"json\", \"txt\"],\n",
    "            \"base_filename\": \"final_report\",\n",
    "            \"plot_filename\": \"training_loss_curves.png\",\n",
    "        }\n",
    "    )\n",
    "\n",
    "    runner = HLAPhasingRunner(config)\n",
    "    runner.run()\n",
    "\n",
    "    logging.info(\"TransPhaser Example Workflow Finished.\")"
   ]
  }
 ],
 "metadata": {
  "kernelspec": {
   "display_name": "Python 3",
   "language": "python",
   "name": "python3"
  },
  "language_info": {
   "codemirror_mode": {
    "name": "ipython",
    "version": 3
   },
   "file_extension": ".py",
   "mimetype": "text/x-python",
   "name": "python",
   "nbconvert_exporter": "python",
   "pygments_lexer": "ipython3",
   "version": "3.10.0"
  }
 },
 "nbformat": 4,
 "nbformat_minor": 5
}
