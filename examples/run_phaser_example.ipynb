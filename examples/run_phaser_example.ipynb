{
 "cells": [
  {
   "cell_type": "markdown",
   "id": "27403e43",
   "metadata": {},
   "source": [
    "# 1. Import Required Libraries"
   ]
  },
  {
   "cell_type": "code",
   "execution_count": null,
   "id": "a40ae68f",
   "metadata": {},
   "outputs": [],
   "source": [
    "import torch\n",
    "import os\n",
    "import logging\n",
    "import pandas as pd\n",
    "from transphaser.config import HLAPhasingConfig\n",
    "from transphaser.runner import HLAPhasingRunner"
   ]
  },
  {
   "cell_type": "markdown",
   "id": "d512cffc",
   "metadata": {},
   "source": [
    "# 2. Configuration"
   ]
  },
  {
   "cell_type": "code",
   "execution_count": null,
   "id": "bf767ad7",
   "metadata": {},
   "outputs": [],
   "source": [
    "DATA_DIR = \"data\"\n",
    "UNPHASED_DATA_FILE = os.path.join(DATA_DIR, \"synthetic_genotypes_unphased.csv\")\n",
    "PHASED_DATA_FILE = os.path.join(DATA_DIR, \"synthetic_haplotypes_phased.csv\")\n",
    "OUTPUT_DIR = \"output\"\n",
    "MODEL_SAVE_PATH = os.path.join(OUTPUT_DIR, \"trained_model.pt\")\n",
    "SEED = 42\n",
    "DEVICE = \"cuda\" if torch.cuda.is_available() else \"cpu\"\n",
    "\n",
    "logging.basicConfig(level=logging.INFO, format='%(asctime)s - %(levelname)s - %(message)s')"
   ]
  },
  {
   "cell_type": "markdown",
   "metadata": {},
   "source": [
    "# 3. Create Configuration Object for Training"
   ]
  },
  {
   "cell_type": "code",
   "execution_count": null,
   "metadata": {},
   "outputs": [],
   "source": [
    "config_train = HLAPhasingConfig(\n",
    "    model_name=\"TransPhaser-Example-Train\",\n",
    "    seed=SEED,\n",
    "    device=DEVICE,\n",
    "    output_dir=OUTPUT_DIR,\n",
    "    data={\n",
    "        \"unphased_data_path\": UNPHASED_DATA_FILE,\n",
    "        \"phased_data_path\": PHASED_DATA_FILE,\n",
    "        \"locus_columns\": [\"HLA-A\", \"HLA-B\", \"HLA-DRB1\"],\n",
    "        \"covariate_columns\": [\"Population\", \"AgeGroup\"],\n",
    "        \"categorical_covariate_columns\": [\"Population\", \"AgeGroup\"],\n",
    "    },\n",
    "    model={\n",
    "        \"embedding_dim\": 64,\n",
    "        \"latent_dim\": 32,\n",
    "        \"encoder\": {\"num_layers\": 2, \"num_heads\": 4, \"dropout\": 0.1, \"ff_dim\": 128},\n",
    "        \"decoder\": {\"num_layers\": 2, \"num_heads\": 4, \"dropout\": 0.1, \"ff_dim\": 128},\n",
    "    },\n",
    "    training={\n",
    "        \"batch_size\": 32,\n",
    "        \"learning_rate\": 1e-4,\n",
    "        \"epochs\": 5,\n",
    "        \"kl_annealing_type\": \"linear\",\n",
    "        \"kl_annealing_epochs\": 1,\n",
    "    },\n",
    "    reporting={\n",
    "        \"formats\": [\"json\", \"txt\"],\n",
    "        \"base_filename\": \"final_report_train\",\n",
    "        \"plot_filename\": \"training_loss_curves.png\",\n",
    "    }\n",
    ")"
   ]
  },
  {
   "cell_type": "markdown",
   "metadata": {},
   "source": [
    "# 4. Train and Save the Model"
   ]
  },
  {
   "cell_type": "code",
   "execution_count": null,
   "metadata": {},
   "outputs": [],
   "source": [
    "logging.info(\"--- Training and Saving the Model ---\")\n",
    "runner_train = HLAPhasingRunner(config_train)\n",
    "runner_train.run()\n",
    "runner_train.save_model(MODEL_SAVE_PATH)\n",
    "logging.info(f\"Model trained and saved to {MODEL_SAVE_PATH}\")"
   ]
  },
  {
   "cell_type": "markdown",
   "metadata": {},
   "source": [
    "# 5. Load the Model and Predict on New Data"
   ]
  },
  {
   "cell_type": "code",
   "execution_count": null,
   "metadata": {},
   "outputs": [],
   "source": [
    "logging.info(\"\\n--- Loading and Predicting with a New Runner ---\")\n",
    "\n",
    "new_data = {\n",
    "    'IndividualID': ['new_sample_1', 'new_sample_2'],\n",
    "    'HLA-A': ['A*01:01/A*02:01', 'A*03:01/A*04:01'],\n",
    "    'HLA-B': ['B*07:01/B*08:01', 'B*09:01/B*10:01'],\n",
    "    'HLA-DRB1': ['DRB1*01:01/DRB1*02:01', 'DRB1*03:01/DRB1*04:01'],\n",
    "    'Population': ['CEU', 'YRI'],\n",
    "    'AgeGroup': ['Young', 'Old']\n",
    "}\n",
    "new_data_df = pd.DataFrame(new_data)\n",
    "new_data_path = os.path.join(DATA_DIR, \"new_unphased_data.csv\")\n",
    "new_data_df.to_csv(new_data_path, index=False)\n",
    "\n",
    "config_predict = config_train.copy(deep=True)\n",
    "config_predict.data.unphased_data_path = new_data_path\n",
    "config_predict.data.phased_data_path = None\n",
    "config_predict.reporting.base_filename = \"final_report_predict\"\n",
    "\n",
    "runner_predict = HLAPhasingRunner(config_predict)\n",
    "runner_predict.predict(model_path=MODEL_SAVE_PATH)\n",
    "\n",
    "logging.info(\"Prediction complete on new data with the loaded model.\")\n",
    "logging.info(f\"Prediction results saved in: {config_predict.output_dir}\")\n",
    "logging.info(\"\\nTransPhaser Example Workflow Finished.\")"
   ]
  }
 ],
 "metadata": {
  "kernelspec": {
   "display_name": "Python 3",
   "language": "python",
   "name": "python3"
  },
  "language_info": {
   "codemirror_mode": {
    "name": "ipython",
    "version": 3
   },
   "file_extension": ".py",
   "mimetype": "text/x-python",
   "name": "python",
   "nbconvert_exporter": "python",
   "pygments_lexer": "ipython3",
   "version": "3.10.0"
  }
 },
 "nbformat": 4,
 "nbformat_minor": 5
}
